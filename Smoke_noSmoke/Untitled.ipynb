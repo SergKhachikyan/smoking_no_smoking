{
 "cells": [
  {
   "cell_type": "code",
   "execution_count": 1,
   "id": "df2323fa-c5b7-434c-b61b-d70c0373d038",
   "metadata": {},
   "outputs": [],
   "source": [
    "import numpy as np\n",
    "import pandas as pd\n",
    "import seaborn as sns\n",
    "import matplotlib.pyplot as plt\n",
    "import matplotlib.image as mpimg\n",
    "import os\n",
    "import cv2"
   ]
  },
  {
   "cell_type": "markdown",
   "id": "3f773089-aa43-4566-8a43-1e6deeefa092",
   "metadata": {},
   "source": [
    "# smok = 0\n",
    "# no_smok = 1"
   ]
  },
  {
   "cell_type": "code",
   "execution_count": 2,
   "id": "12574fc5-32ff-4ab5-aa4e-c977dc7c4af6",
   "metadata": {},
   "outputs": [],
   "source": [
    "X_train = []\n",
    "y_train = []\n",
    "\n",
    "for i in os.listdir('Training/Training/'):\n",
    "    try:\n",
    "        image = cv2.imread(f'Training/Training/{i}', cv2.IMREAD_GRAYSCALE)\n",
    "        if image is None:\n",
    "            continue\n",
    "        image = cv2.resize(image, (250, 250))\n",
    "        image = image.reshape(250, 250, 1)\n",
    "        image = image / 255.0\n",
    "        if i.startswith('not'):\n",
    "            X_train.append(image)\n",
    "            y_train.append(0)\n",
    "        else:\n",
    "            X_train.append(image)\n",
    "            y_train.append(1)\n",
    "    except Exception as e:\n",
    "        continue\n",
    "X_train = np.array(X_train)\n",
    "y_train = np.array(y_train)\n",
    "if len(X_train) != len(y_train):\n",
    "    min_len = min(len(X_train), len(y_train))\n",
    "    X_train = X_train[:min_len]\n",
    "    y_train = y_train[:min_len]"
   ]
  },
  {
   "cell_type": "code",
   "execution_count": 3,
   "id": "54df0779-5c02-4176-bfc6-0690036dfc86",
   "metadata": {},
   "outputs": [
    {
     "data": {
      "text/plain": [
       "(716, 250, 250, 1)"
      ]
     },
     "execution_count": 3,
     "metadata": {},
     "output_type": "execute_result"
    }
   ],
   "source": [
    "X_train.shape"
   ]
  },
  {
   "cell_type": "code",
   "execution_count": 4,
   "id": "18b0ed49-5d34-48d7-b26e-01decccdec6d",
   "metadata": {},
   "outputs": [
    {
     "data": {
      "text/plain": [
       "(716,)"
      ]
     },
     "execution_count": 4,
     "metadata": {},
     "output_type": "execute_result"
    }
   ],
   "source": [
    "y_train.shape"
   ]
  },
  {
   "cell_type": "code",
   "execution_count": 5,
   "id": "d939d8e5-ae13-43c0-a4cb-d67731ddf943",
   "metadata": {},
   "outputs": [],
   "source": [
    "X_test = []\n",
    "y_test = []\n",
    "\n",
    "for i in os.listdir('Testing/Testing/'):\n",
    "    try:\n",
    "        image = cv2.imread(f'Testing/Testing/{i}', cv2.IMREAD_GRAYSCALE)\n",
    "        if image is None:\n",
    "            continue\n",
    "        image = cv2.resize(image, (250, 250))\n",
    "        image = image.reshape(250, 250, 1)\n",
    "        image = image / 255.0\n",
    "        if i.startswith('not'):\n",
    "            X_test.append(image)\n",
    "            y_test.append(0)\n",
    "        else:\n",
    "            X_test.append(image)\n",
    "            y_test.append(1)\n",
    "    except Exception as e:\n",
    "        continue\n",
    "X_test = np.array(X_test)\n",
    "y_test = np.array(y_test)\n",
    "if len(X_test) != len(y_test):\n",
    "    min_len = min(len(X_test), len(y_test))\n",
    "    X_test = X_test[:min_len]\n",
    "    y_test = y_test[:min_len]"
   ]
  },
  {
   "cell_type": "code",
   "execution_count": 6,
   "id": "366772bc-6da9-45c8-8f35-75fd11296777",
   "metadata": {},
   "outputs": [],
   "source": [
    "X_val = []\n",
    "y_val = []\n",
    "\n",
    "for i in os.listdir('Validation/Validation/'):\n",
    "    try:\n",
    "        image = cv2.imread(f'Validation/Validation/{i}', cv2.IMREAD_GRAYSCALE)\n",
    "        if image is None:\n",
    "            continue\n",
    "        image = cv2.resize(image, (250, 250))\n",
    "        image = image.reshape(250, 250, 1)\n",
    "        image = image / 255.0\n",
    "        if i.startswith('not'):\n",
    "            X_val.append(image)\n",
    "            y_val.append(0)\n",
    "        else:\n",
    "            X_val.append(image)\n",
    "            y_val.append(1)\n",
    "    except Exception as e:\n",
    "        continue\n",
    "X_val = np.array(X_test)\n",
    "y_val = np.array(y_val)\n",
    "if len(X_val) != len(y_val):\n",
    "    min_len = min(len(X_val), len(y_val))\n",
    "    X_val = X_val[:min_len]\n",
    "    y_val = y_val[:min_len]"
   ]
  },
  {
   "cell_type": "code",
   "execution_count": 7,
   "id": "02877542-bc4c-4d85-87e4-2094e8107b82",
   "metadata": {},
   "outputs": [],
   "source": [
    "from keras.utils import to_categorical"
   ]
  },
  {
   "cell_type": "code",
   "execution_count": 8,
   "id": "cd4ed342-c49b-4ee8-a0ee-c94ecce4af0e",
   "metadata": {},
   "outputs": [],
   "source": [
    "y_train = to_categorical(y_train,num_classes=2)\n",
    "y_test = to_categorical(y_test,num_classes=2)\n",
    "y_val = to_categorical(y_val,num_classes=2)"
   ]
  },
  {
   "cell_type": "code",
   "execution_count": 9,
   "id": "a2061c6e-f92b-47c5-8cdf-eeb244708361",
   "metadata": {},
   "outputs": [],
   "source": [
    "from keras import Sequential\n",
    "from keras.layers import Dense,Conv2D,Flatten,MaxPooling2D,Dropout"
   ]
  },
  {
   "cell_type": "code",
   "execution_count": 10,
   "id": "2c0a8fd6-49d0-4e28-b36f-375011ff8cff",
   "metadata": {},
   "outputs": [
    {
     "name": "stderr",
     "output_type": "stream",
     "text": [
      "C:\\Users\\Boris\\Desktop\\ML\\venv\\Lib\\site-packages\\keras\\src\\layers\\convolutional\\base_conv.py:107: UserWarning: Do not pass an `input_shape`/`input_dim` argument to a layer. When using Sequential models, prefer using an `Input(shape)` object as the first layer in the model instead.\n",
      "  super().__init__(activity_regularizer=activity_regularizer, **kwargs)\n"
     ]
    }
   ],
   "source": [
    "model = Sequential()\n",
    "\n",
    "model.add(Conv2D(filters=64,kernel_size=(3,3),activation='relu',input_shape = (250,250,1)))\n",
    "model.add(MaxPooling2D(pool_size=(2,2)))\n",
    "\n",
    "model.add(Conv2D(filters=32,kernel_size=(3,3),activation='relu'))\n",
    "model.add(MaxPooling2D(pool_size=(2,2)))\n",
    "model.add(Flatten())\n",
    "\n",
    "model.add(Dense(30,activation= 'relu'))\n",
    "model.add(Dense(18,activation= 'relu'))\n",
    "model.add(Dense(2,activation= 'softmax'))\n",
    "\n",
    "model.compile(optimizer='adam',loss = 'binary_crossentropy',metrics=['accuracy'])"
   ]
  },
  {
   "cell_type": "code",
   "execution_count": 11,
   "id": "8539561a-c90a-41a2-a3d9-34c0e19f22a6",
   "metadata": {},
   "outputs": [
    {
     "name": "stdout",
     "output_type": "stream",
     "text": [
      "Epoch 1/20\n",
      "\u001b[1m23/23\u001b[0m \u001b[32m━━━━━━━━━━━━━━━━━━━━\u001b[0m\u001b[37m\u001b[0m \u001b[1m9s\u001b[0m 343ms/step - accuracy: 0.5661 - loss: 0.6929 - val_accuracy: 0.7222 - val_loss: 0.5641\n",
      "Epoch 2/20\n",
      "\u001b[1m23/23\u001b[0m \u001b[32m━━━━━━━━━━━━━━━━━━━━\u001b[0m\u001b[37m\u001b[0m \u001b[1m8s\u001b[0m 337ms/step - accuracy: 0.7641 - loss: 0.5207 - val_accuracy: 0.5833 - val_loss: 0.6512\n",
      "Epoch 3/20\n",
      "\u001b[1m23/23\u001b[0m \u001b[32m━━━━━━━━━━━━━━━━━━━━\u001b[0m\u001b[37m\u001b[0m \u001b[1m8s\u001b[0m 350ms/step - accuracy: 0.6896 - loss: 0.5640 - val_accuracy: 0.7444 - val_loss: 0.5686\n",
      "Epoch 4/20\n",
      "\u001b[1m23/23\u001b[0m \u001b[32m━━━━━━━━━━━━━━━━━━━━\u001b[0m\u001b[37m\u001b[0m \u001b[1m8s\u001b[0m 352ms/step - accuracy: 0.7752 - loss: 0.4672 - val_accuracy: 0.6944 - val_loss: 0.6231\n",
      "Epoch 5/20\n",
      "\u001b[1m23/23\u001b[0m \u001b[32m━━━━━━━━━━━━━━━━━━━━\u001b[0m\u001b[37m\u001b[0m \u001b[1m9s\u001b[0m 373ms/step - accuracy: 0.8043 - loss: 0.4503 - val_accuracy: 0.7556 - val_loss: 0.5655\n",
      "Epoch 6/20\n",
      "\u001b[1m23/23\u001b[0m \u001b[32m━━━━━━━━━━━━━━━━━━━━\u001b[0m\u001b[37m\u001b[0m \u001b[1m9s\u001b[0m 376ms/step - accuracy: 0.8607 - loss: 0.3244 - val_accuracy: 0.7056 - val_loss: 0.6729\n",
      "Epoch 7/20\n",
      "\u001b[1m23/23\u001b[0m \u001b[32m━━━━━━━━━━━━━━━━━━━━\u001b[0m\u001b[37m\u001b[0m \u001b[1m9s\u001b[0m 366ms/step - accuracy: 0.9200 - loss: 0.2377 - val_accuracy: 0.6611 - val_loss: 0.7333\n",
      "Epoch 8/20\n",
      "\u001b[1m23/23\u001b[0m \u001b[32m━━━━━━━━━━━━━━━━━━━━\u001b[0m\u001b[37m\u001b[0m \u001b[1m9s\u001b[0m 385ms/step - accuracy: 0.9314 - loss: 0.1872 - val_accuracy: 0.6833 - val_loss: 0.7710\n",
      "Epoch 9/20\n",
      "\u001b[1m23/23\u001b[0m \u001b[32m━━━━━━━━━━━━━━━━━━━━\u001b[0m\u001b[37m\u001b[0m \u001b[1m9s\u001b[0m 403ms/step - accuracy: 0.9745 - loss: 0.0848 - val_accuracy: 0.6667 - val_loss: 0.8310\n",
      "Epoch 10/20\n",
      "\u001b[1m23/23\u001b[0m \u001b[32m━━━━━━━━━━━━━━━━━━━━\u001b[0m\u001b[37m\u001b[0m \u001b[1m8s\u001b[0m 358ms/step - accuracy: 0.9904 - loss: 0.0380 - val_accuracy: 0.6444 - val_loss: 0.9754\n",
      "Epoch 11/20\n",
      "\u001b[1m23/23\u001b[0m \u001b[32m━━━━━━━━━━━━━━━━━━━━\u001b[0m\u001b[37m\u001b[0m \u001b[1m8s\u001b[0m 357ms/step - accuracy: 0.9997 - loss: 0.0160 - val_accuracy: 0.7000 - val_loss: 1.0192\n",
      "Epoch 12/20\n",
      "\u001b[1m23/23\u001b[0m \u001b[32m━━━━━━━━━━━━━━━━━━━━\u001b[0m\u001b[37m\u001b[0m \u001b[1m8s\u001b[0m 365ms/step - accuracy: 1.0000 - loss: 0.0063 - val_accuracy: 0.7111 - val_loss: 1.0621\n",
      "Epoch 13/20\n",
      "\u001b[1m23/23\u001b[0m \u001b[32m━━━━━━━━━━━━━━━━━━━━\u001b[0m\u001b[37m\u001b[0m \u001b[1m8s\u001b[0m 364ms/step - accuracy: 1.0000 - loss: 0.0039 - val_accuracy: 0.6833 - val_loss: 1.1393\n",
      "Epoch 14/20\n",
      "\u001b[1m23/23\u001b[0m \u001b[32m━━━━━━━━━━━━━━━━━━━━\u001b[0m\u001b[37m\u001b[0m \u001b[1m9s\u001b[0m 404ms/step - accuracy: 1.0000 - loss: 0.0033 - val_accuracy: 0.6889 - val_loss: 1.1696\n",
      "Epoch 15/20\n",
      "\u001b[1m23/23\u001b[0m \u001b[32m━━━━━━━━━━━━━━━━━━━━\u001b[0m\u001b[37m\u001b[0m \u001b[1m8s\u001b[0m 355ms/step - accuracy: 1.0000 - loss: 0.0023 - val_accuracy: 0.7056 - val_loss: 1.1751\n",
      "Epoch 16/20\n",
      "\u001b[1m23/23\u001b[0m \u001b[32m━━━━━━━━━━━━━━━━━━━━\u001b[0m\u001b[37m\u001b[0m \u001b[1m8s\u001b[0m 359ms/step - accuracy: 1.0000 - loss: 0.0016 - val_accuracy: 0.7111 - val_loss: 1.2140\n",
      "Epoch 17/20\n",
      "\u001b[1m23/23\u001b[0m \u001b[32m━━━━━━━━━━━━━━━━━━━━\u001b[0m\u001b[37m\u001b[0m \u001b[1m8s\u001b[0m 362ms/step - accuracy: 1.0000 - loss: 0.0012 - val_accuracy: 0.7056 - val_loss: 1.2352\n",
      "Epoch 18/20\n",
      "\u001b[1m23/23\u001b[0m \u001b[32m━━━━━━━━━━━━━━━━━━━━\u001b[0m\u001b[37m\u001b[0m \u001b[1m8s\u001b[0m 361ms/step - accuracy: 1.0000 - loss: 0.0011 - val_accuracy: 0.7111 - val_loss: 1.2573\n",
      "Epoch 19/20\n",
      "\u001b[1m23/23\u001b[0m \u001b[32m━━━━━━━━━━━━━━━━━━━━\u001b[0m\u001b[37m\u001b[0m \u001b[1m9s\u001b[0m 374ms/step - accuracy: 1.0000 - loss: 9.3714e-04 - val_accuracy: 0.7056 - val_loss: 1.2791\n",
      "Epoch 20/20\n",
      "\u001b[1m23/23\u001b[0m \u001b[32m━━━━━━━━━━━━━━━━━━━━\u001b[0m\u001b[37m\u001b[0m \u001b[1m8s\u001b[0m 359ms/step - accuracy: 1.0000 - loss: 7.5033e-04 - val_accuracy: 0.7056 - val_loss: 1.3024\n"
     ]
    },
    {
     "data": {
      "text/plain": [
       "<keras.src.callbacks.history.History at 0x2698c500c50>"
      ]
     },
     "execution_count": 11,
     "metadata": {},
     "output_type": "execute_result"
    }
   ],
   "source": [
    "model.fit(X_train,y_train, validation_data=(X_val, y_val), epochs = 20)"
   ]
  },
  {
   "cell_type": "code",
   "execution_count": 12,
   "id": "03a03b66-ff63-4949-89f5-7f01019b1def",
   "metadata": {},
   "outputs": [
    {
     "name": "stdout",
     "output_type": "stream",
     "text": [
      "\u001b[1m7/7\u001b[0m \u001b[32m━━━━━━━━━━━━━━━━━━━━\u001b[0m\u001b[37m\u001b[0m \u001b[1m1s\u001b[0m 98ms/step - accuracy: 0.6997 - loss: 1.1687\n"
     ]
    },
    {
     "data": {
      "text/plain": [
       "[1.2223899364471436, 0.6919642686843872]"
      ]
     },
     "execution_count": 12,
     "metadata": {},
     "output_type": "execute_result"
    }
   ],
   "source": [
    "model.evaluate(X_test, y_test)"
   ]
  },
  {
   "cell_type": "code",
   "execution_count": 13,
   "id": "41e83f5a-da68-499b-a312-99737878e63e",
   "metadata": {},
   "outputs": [],
   "source": [
    "import pickle"
   ]
  },
  {
   "cell_type": "code",
   "execution_count": 14,
   "id": "46bab9e8-d385-486e-aa59-07d1a0a0b4c5",
   "metadata": {},
   "outputs": [],
   "source": [
    "with open('mymodel.pkl', 'wb') as file:\n",
    "    pickle.dump(model, file)"
   ]
  },
  {
   "cell_type": "code",
   "execution_count": null,
   "id": "1fedb0ba-4917-4ef3-a929-c80596a74d0a",
   "metadata": {},
   "outputs": [],
   "source": []
  }
 ],
 "metadata": {
  "kernelspec": {
   "display_name": "Python 3 (ipykernel)",
   "language": "python",
   "name": "python3"
  },
  "language_info": {
   "codemirror_mode": {
    "name": "ipython",
    "version": 3
   },
   "file_extension": ".py",
   "mimetype": "text/x-python",
   "name": "python",
   "nbconvert_exporter": "python",
   "pygments_lexer": "ipython3",
   "version": "3.11.0"
  }
 },
 "nbformat": 4,
 "nbformat_minor": 5
}
