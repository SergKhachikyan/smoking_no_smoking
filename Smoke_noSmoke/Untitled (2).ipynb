{
 "cells": [
  {
   "cell_type": "code",
   "execution_count": 1,
   "id": "14e99527-64ef-44d8-b55b-42f0a8219ffd",
   "metadata": {},
   "outputs": [],
   "source": [
    "import numpy as np\n",
    "import pandas as pd\n",
    "import seaborn as sns\n",
    "import matplotlib.pyplot as plt\n",
    "import matplotlib.image as mpimg\n",
    "import cv2\n",
    "import os"
   ]
  },
  {
   "cell_type": "markdown",
   "id": "473141dc-8f9b-4fe3-8b0d-8cbc85735e8c",
   "metadata": {},
   "source": [
    "smok = 0\n",
    "no_smok = 1"
   ]
  },
  {
   "cell_type": "code",
   "execution_count": 2,
   "id": "aa710733-84f1-4439-ab27-3e133bd602b9",
   "metadata": {},
   "outputs": [],
   "source": [
    "X_train = []\n",
    "y_train = []\n",
    "for i in os.listdir('Training/Training/'):\n",
    "    try:\n",
    "        image = mpimg.imread(f'Training/Training/{i}')\n",
    "        image = cv2.cvtColor(image,cv2.COLOR_BGR2GRAY)\n",
    "        image = image.reshape(250,250,1)\n",
    "        image = image / 255\n",
    "        if i[0:3] == 'not':\n",
    "            X_train.append(image)\n",
    "            y_train.append(0)\n",
    "        else:\n",
    "            X_train.append(image)\n",
    "            y_train.append(1)\n",
    "    except:\n",
    "        continue\n",
    "X_train = np.array(X_train)\n",
    "y_train = np.array(y_train)\n",
    "        "
   ]
  },
  {
   "cell_type": "code",
   "execution_count": 5,
   "id": "c50e52de-fa4d-41db-8762-e12838fe4f8b",
   "metadata": {},
   "outputs": [
    {
     "data": {
      "text/plain": [
       "(716, 250, 250, 1)"
      ]
     },
     "execution_count": 5,
     "metadata": {},
     "output_type": "execute_result"
    }
   ],
   "source": [
    "X_train.shape"
   ]
  },
  {
   "cell_type": "code",
   "execution_count": 8,
   "id": "ea529065-aea4-48bb-a827-12a2fa60eaae",
   "metadata": {},
   "outputs": [
    {
     "data": {
      "text/plain": [
       "(716,)"
      ]
     },
     "execution_count": 8,
     "metadata": {},
     "output_type": "execute_result"
    }
   ],
   "source": [
    "y_train.shape"
   ]
  },
  {
   "cell_type": "code",
   "execution_count": 9,
   "id": "7551b986-2565-4bab-a8ea-767e92daa6f6",
   "metadata": {},
   "outputs": [],
   "source": [
    "X_test = []\n",
    "y_test = []\n",
    "for i in os.listdir('Testing/Testing/'):\n",
    "    try:\n",
    "        image = mpimg.imread(f'Testing//Testing/{i}')\n",
    "        image = cv2.cvtColor(image,cv2.COLOR_BGR2GRAY)\n",
    "        image = image.reshape(250,250,1)\n",
    "        image = image / 255\n",
    "        if i[0:3] == 'not':\n",
    "            X_test.append(image)\n",
    "            y_test.append(0)\n",
    "        else:\n",
    "            X_test.append(image)\n",
    "            y_test.append(1)\n",
    "        X_test.append(image)\n",
    "        y_test.append(0)\n",
    "    except:\n",
    "        continue\n",
    "X_test = np.array(X_test)\n",
    "y_test = np.array(y_test)"
   ]
  },
  {
   "cell_type": "code",
   "execution_count": 10,
   "id": "dbc3a528-cf63-4213-9442-abdbe63ca24f",
   "metadata": {},
   "outputs": [],
   "source": [
    "X_val = []\n",
    "y_val = []\n",
    "for i in os.listdir('Validation/Validation/'):\n",
    "    try:\n",
    "        image = mpimg.imread(f'Validation/Validation/{i}')\n",
    "        image = cv2.cvtColor(image,cv2.COLOR_BGR2GRAY)\n",
    "        image = image.reshape(250,250,1)\n",
    "        image = image / 255\n",
    "        if i[0:3] == 'not':\n",
    "            X_val.append(image)\n",
    "            y_val.append(0)\n",
    "        else:\n",
    "            X_val.append(image)\n",
    "            y_val.append(1)\n",
    "    except:\n",
    "        continue\n",
    "X_val = np.array(X_val)\n",
    "y_val = np.array(y_val)"
   ]
  },
  {
   "cell_type": "code",
   "execution_count": 11,
   "id": "67d3b1dc-cdf6-44b6-891e-7ecc87efefde",
   "metadata": {},
   "outputs": [
    {
     "data": {
      "text/plain": [
       "(180, 250, 250, 1)"
      ]
     },
     "execution_count": 11,
     "metadata": {},
     "output_type": "execute_result"
    }
   ],
   "source": [
    "X_val.shape"
   ]
  },
  {
   "cell_type": "code",
   "execution_count": 12,
   "id": "e9535644-4d94-486a-b686-777f9662f6a4",
   "metadata": {},
   "outputs": [
    {
     "data": {
      "text/plain": [
       "(180,)"
      ]
     },
     "execution_count": 12,
     "metadata": {},
     "output_type": "execute_result"
    }
   ],
   "source": [
    "y_val.shape"
   ]
  },
  {
   "cell_type": "code",
   "execution_count": 13,
   "id": "2def5272-c272-48e9-a7c8-c1de12b8dab4",
   "metadata": {},
   "outputs": [
    {
     "data": {
      "text/plain": [
       "(448, 250, 250, 1)"
      ]
     },
     "execution_count": 13,
     "metadata": {},
     "output_type": "execute_result"
    }
   ],
   "source": [
    "X_test.shape"
   ]
  },
  {
   "cell_type": "code",
   "execution_count": 14,
   "id": "3c7d682f-64b4-4eef-86c2-b91d299030b0",
   "metadata": {},
   "outputs": [
    {
     "data": {
      "text/plain": [
       "(448,)"
      ]
     },
     "execution_count": 14,
     "metadata": {},
     "output_type": "execute_result"
    }
   ],
   "source": [
    "y_test.shape"
   ]
  },
  {
   "cell_type": "code",
   "execution_count": 16,
   "id": "d0b68de3-080f-47a3-99a5-f413ffccf002",
   "metadata": {},
   "outputs": [],
   "source": [
    "from keras.utils import to_categorical"
   ]
  },
  {
   "cell_type": "code",
   "execution_count": 17,
   "id": "4ca59417-895b-4136-878a-ba4a746434bf",
   "metadata": {},
   "outputs": [],
   "source": [
    "y_train = to_categorical(y_train,num_classes=2)\n",
    "y_test = to_categorical(y_test,num_classes=2)\n",
    "y_val = to_categorical(y_val,num_classes=2)"
   ]
  },
  {
   "cell_type": "code",
   "execution_count": 19,
   "id": "8031eded-634a-44a5-a770-ef8a6f08bac0",
   "metadata": {},
   "outputs": [],
   "source": [
    "from keras import Sequential\n",
    "from keras.layers import Dense,Conv2D,Flatten,MaxPooling2D,Dropout"
   ]
  },
  {
   "cell_type": "code",
   "execution_count": 47,
   "id": "51c26ae1-4e63-404f-96bb-ea7562dc648b",
   "metadata": {},
   "outputs": [
    {
     "name": "stderr",
     "output_type": "stream",
     "text": [
      "C:\\Users\\ASUS\\Desktop\\ML_LOGIX_\\venv\\Lib\\site-packages\\keras\\src\\layers\\convolutional\\base_conv.py:107: UserWarning: Do not pass an `input_shape`/`input_dim` argument to a layer. When using Sequential models, prefer using an `Input(shape)` object as the first layer in the model instead.\n",
      "  super().__init__(activity_regularizer=activity_regularizer, **kwargs)\n"
     ]
    }
   ],
   "source": [
    "model = Sequential()\n",
    "\n",
    "model.add(Conv2D(filters=64,kernel_size=(3,3),activation='relu',input_shape = (250,250,1)))\n",
    "model.add(MaxPooling2D(pool_size=(2,2)))\n",
    "\n",
    "model.add(Conv2D(filters=32,kernel_size=(3,3),activation='relu'))\n",
    "model.add(MaxPooling2D(pool_size=(2,2)))\n",
    "model.add(Flatten())\n",
    "\n",
    "model.add(Dense(30,activation= 'relu'))\n",
    "model.add(Dense(18,activation= 'relu'))\n",
    "model.add(Dense(2,activation= 'softmax'))\n",
    "\n",
    "model.compile(optimizer='adam',loss = 'binary_crossentropy',metrics=['accuracy'])"
   ]
  },
  {
   "cell_type": "code",
   "execution_count": 48,
   "id": "b9396756-0302-41f6-9238-275efdb80a17",
   "metadata": {},
   "outputs": [
    {
     "name": "stdout",
     "output_type": "stream",
     "text": [
      "Epoch 1/20\n",
      "\u001b[1m23/23\u001b[0m \u001b[32m━━━━━━━━━━━━━━━━━━━━\u001b[0m\u001b[37m\u001b[0m \u001b[1m12s\u001b[0m 471ms/step - accuracy: 0.5066 - loss: 0.7992 - val_accuracy: 0.7333 - val_loss: 0.5784\n",
      "Epoch 2/20\n",
      "\u001b[1m23/23\u001b[0m \u001b[32m━━━━━━━━━━━━━━━━━━━━\u001b[0m\u001b[37m\u001b[0m \u001b[1m11s\u001b[0m 456ms/step - accuracy: 0.6812 - loss: 0.6249 - val_accuracy: 0.6611 - val_loss: 0.5835\n",
      "Epoch 3/20\n",
      "\u001b[1m23/23\u001b[0m \u001b[32m━━━━━━━━━━━━━━━━━━━━\u001b[0m\u001b[37m\u001b[0m \u001b[1m10s\u001b[0m 454ms/step - accuracy: 0.7014 - loss: 0.5623 - val_accuracy: 0.6722 - val_loss: 0.5567\n",
      "Epoch 4/20\n",
      "\u001b[1m23/23\u001b[0m \u001b[32m━━━━━━━━━━━━━━━━━━━━\u001b[0m\u001b[37m\u001b[0m \u001b[1m10s\u001b[0m 455ms/step - accuracy: 0.7358 - loss: 0.5215 - val_accuracy: 0.7000 - val_loss: 0.5376\n",
      "Epoch 5/20\n",
      "\u001b[1m23/23\u001b[0m \u001b[32m━━━━━━━━━━━━━━━━━━━━\u001b[0m\u001b[37m\u001b[0m \u001b[1m10s\u001b[0m 455ms/step - accuracy: 0.7520 - loss: 0.5107 - val_accuracy: 0.7167 - val_loss: 0.5256\n",
      "Epoch 6/20\n",
      "\u001b[1m23/23\u001b[0m \u001b[32m━━━━━━━━━━━━━━━━━━━━\u001b[0m\u001b[37m\u001b[0m \u001b[1m11s\u001b[0m 457ms/step - accuracy: 0.7796 - loss: 0.4501 - val_accuracy: 0.7722 - val_loss: 0.5370\n",
      "Epoch 7/20\n",
      "\u001b[1m23/23\u001b[0m \u001b[32m━━━━━━━━━━━━━━━━━━━━\u001b[0m\u001b[37m\u001b[0m \u001b[1m11s\u001b[0m 458ms/step - accuracy: 0.8538 - loss: 0.3726 - val_accuracy: 0.7389 - val_loss: 0.5521\n",
      "Epoch 8/20\n",
      "\u001b[1m23/23\u001b[0m \u001b[32m━━━━━━━━━━━━━━━━━━━━\u001b[0m\u001b[37m\u001b[0m \u001b[1m11s\u001b[0m 458ms/step - accuracy: 0.9256 - loss: 0.2354 - val_accuracy: 0.7500 - val_loss: 0.5588\n",
      "Epoch 9/20\n",
      "\u001b[1m23/23\u001b[0m \u001b[32m━━━━━━━━━━━━━━━━━━━━\u001b[0m\u001b[37m\u001b[0m \u001b[1m11s\u001b[0m 460ms/step - accuracy: 0.9526 - loss: 0.1475 - val_accuracy: 0.7167 - val_loss: 0.7209\n",
      "Epoch 10/20\n",
      "\u001b[1m23/23\u001b[0m \u001b[32m━━━━━━━━━━━━━━━━━━━━\u001b[0m\u001b[37m\u001b[0m \u001b[1m11s\u001b[0m 458ms/step - accuracy: 0.9790 - loss: 0.0645 - val_accuracy: 0.7056 - val_loss: 0.8726\n",
      "Epoch 11/20\n",
      "\u001b[1m23/23\u001b[0m \u001b[32m━━━━━━━━━━━━━━━━━━━━\u001b[0m\u001b[37m\u001b[0m \u001b[1m11s\u001b[0m 462ms/step - accuracy: 0.9988 - loss: 0.0302 - val_accuracy: 0.6944 - val_loss: 0.9031\n",
      "Epoch 12/20\n",
      "\u001b[1m23/23\u001b[0m \u001b[32m━━━━━━━━━━━━━━━━━━━━\u001b[0m\u001b[37m\u001b[0m \u001b[1m11s\u001b[0m 462ms/step - accuracy: 0.9986 - loss: 0.0106 - val_accuracy: 0.7056 - val_loss: 1.0725\n",
      "Epoch 13/20\n",
      "\u001b[1m23/23\u001b[0m \u001b[32m━━━━━━━━━━━━━━━━━━━━\u001b[0m\u001b[37m\u001b[0m \u001b[1m11s\u001b[0m 461ms/step - accuracy: 1.0000 - loss: 0.0033 - val_accuracy: 0.6944 - val_loss: 1.2228\n",
      "Epoch 14/20\n",
      "\u001b[1m23/23\u001b[0m \u001b[32m━━━━━━━━━━━━━━━━━━━━\u001b[0m\u001b[37m\u001b[0m \u001b[1m11s\u001b[0m 459ms/step - accuracy: 1.0000 - loss: 0.0015 - val_accuracy: 0.7167 - val_loss: 1.1927\n",
      "Epoch 15/20\n",
      "\u001b[1m23/23\u001b[0m \u001b[32m━━━━━━━━━━━━━━━━━━━━\u001b[0m\u001b[37m\u001b[0m \u001b[1m10s\u001b[0m 453ms/step - accuracy: 1.0000 - loss: 0.0011 - val_accuracy: 0.7167 - val_loss: 1.2427\n",
      "Epoch 16/20\n",
      "\u001b[1m23/23\u001b[0m \u001b[32m━━━━━━━━━━━━━━━━━━━━\u001b[0m\u001b[37m\u001b[0m \u001b[1m10s\u001b[0m 456ms/step - accuracy: 1.0000 - loss: 7.7822e-04 - val_accuracy: 0.7222 - val_loss: 1.2617\n",
      "Epoch 17/20\n",
      "\u001b[1m23/23\u001b[0m \u001b[32m━━━━━━━━━━━━━━━━━━━━\u001b[0m\u001b[37m\u001b[0m \u001b[1m11s\u001b[0m 460ms/step - accuracy: 1.0000 - loss: 6.4884e-04 - val_accuracy: 0.7111 - val_loss: 1.2679\n",
      "Epoch 18/20\n",
      "\u001b[1m23/23\u001b[0m \u001b[32m━━━━━━━━━━━━━━━━━━━━\u001b[0m\u001b[37m\u001b[0m \u001b[1m10s\u001b[0m 455ms/step - accuracy: 1.0000 - loss: 6.0967e-04 - val_accuracy: 0.7222 - val_loss: 1.3164\n",
      "Epoch 19/20\n",
      "\u001b[1m23/23\u001b[0m \u001b[32m━━━━━━━━━━━━━━━━━━━━\u001b[0m\u001b[37m\u001b[0m \u001b[1m11s\u001b[0m 457ms/step - accuracy: 1.0000 - loss: 5.1292e-04 - val_accuracy: 0.7111 - val_loss: 1.2854\n",
      "Epoch 20/20\n",
      "\u001b[1m23/23\u001b[0m \u001b[32m━━━━━━━━━━━━━━━━━━━━\u001b[0m\u001b[37m\u001b[0m \u001b[1m11s\u001b[0m 459ms/step - accuracy: 1.0000 - loss: 4.4573e-04 - val_accuracy: 0.7222 - val_loss: 1.3437\n"
     ]
    },
    {
     "data": {
      "text/plain": [
       "<keras.src.callbacks.history.History at 0x1f922ea9fd0>"
      ]
     },
     "execution_count": 48,
     "metadata": {},
     "output_type": "execute_result"
    }
   ],
   "source": [
    "model.fit(X_train,y_train, validation_data=(X_val, y_val), epochs = 20)"
   ]
  },
  {
   "cell_type": "code",
   "execution_count": 49,
   "id": "0ab002ec-f393-48d1-8988-04eecc197a07",
   "metadata": {},
   "outputs": [
    {
     "name": "stdout",
     "output_type": "stream",
     "text": [
      "\u001b[1m14/14\u001b[0m \u001b[32m━━━━━━━━━━━━━━━━━━━━\u001b[0m\u001b[37m\u001b[0m \u001b[1m2s\u001b[0m 120ms/step - accuracy: 0.6731 - loss: 1.6090\n"
     ]
    },
    {
     "data": {
      "text/plain": [
       "[2.095107316970825, 0.6205357313156128]"
      ]
     },
     "execution_count": 49,
     "metadata": {},
     "output_type": "execute_result"
    }
   ],
   "source": [
    "model.evaluate(X_test, y_test)"
   ]
  },
  {
   "cell_type": "code",
   "execution_count": 50,
   "id": "f3d3ead0-954a-4758-ac54-547ee03fd813",
   "metadata": {},
   "outputs": [],
   "source": [
    "import pickle"
   ]
  },
  {
   "cell_type": "code",
   "execution_count": 51,
   "id": "1e6b9e13-bc60-4b69-9288-d24278485f69",
   "metadata": {},
   "outputs": [],
   "source": [
    "with open('mymodel.pkl', 'wb') as file:\n",
    "    pickle.dump(model, file)"
   ]
  },
  {
   "cell_type": "code",
   "execution_count": null,
   "id": "66a691c7-4b3f-46a4-a023-aa889ddc3193",
   "metadata": {},
   "outputs": [],
   "source": []
  }
 ],
 "metadata": {
  "kernelspec": {
   "display_name": "Python 3 (ipykernel)",
   "language": "python",
   "name": "python3"
  },
  "language_info": {
   "codemirror_mode": {
    "name": "ipython",
    "version": 3
   },
   "file_extension": ".py",
   "mimetype": "text/x-python",
   "name": "python",
   "nbconvert_exporter": "python",
   "pygments_lexer": "ipython3",
   "version": "3.11.0"
  }
 },
 "nbformat": 4,
 "nbformat_minor": 5
}
